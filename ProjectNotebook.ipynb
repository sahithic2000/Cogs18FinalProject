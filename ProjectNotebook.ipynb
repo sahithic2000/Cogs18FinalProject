{
 "cells": [
  {
   "cell_type": "markdown",
   "metadata": {},
   "source": [
    "# Final Project: Chatbot taking Chipotle orders\n",
    "\n",
    "Below is Chip, the chatbot, and he is ready to take your Chipotle order!\n",
    "\n",
    "## Objective:\n",
    "\n",
    "Using the string, random, and nltk modules, the objective of this project was to create a chatbot that would take a customer's order at Chipotle and display the price of the item ordered at the end. \n",
    "\n",
    "\n",
    "## Usage:\n",
    "\n",
    "Due to time constraints, Chip can only take the burrito orders. So to start talking to Chip, tell him that you want a burrito when he asks, \"how may I take your order\". From there, just pick what you would like in your burrito from the options Chip displays after each question prompted. When Chip is done asking questions, he will prompt you to enter \"done\", so that he can tell you how much your item costs.  \n",
    "\n",
    "Have fun ordering!\n",
    "\n"
   ]
  },
  {
   "cell_type": "code",
   "execution_count": 44,
   "metadata": {},
   "outputs": [],
   "source": [
    "from my_module.functions import *\n",
    "import string\n",
    "import random\n",
    "import nltk\n",
    "\n",
    "rice = ['white','brown','no rice']\n",
    "beans = ['black','pinto','no beans']\n",
    "protein = ['carne', 'asada','carnitas','chicken','sofritas', 'barbacoa','steak','veggie']\n",
    "salsa = ['mild','medium','hot']\n",
    "additional_toppings = ['cheese','fajita','veggies','corn','lettuce','sour','cream','and']\n",
    "guac = ['guac','no guac']\n",
    "bot_messages = ['What kind of rice would you like: white, brown, or no rice?',\n",
    "                'What kind of beans would you like: black, pinto, or no beans?',\n",
    "                'What kind of protein would you like: carne asada, carnitas, chicken, sofritas, barbacoa, steak, or veggie?',\n",
    "                'What salsa would you like: mild, medium, hot, and/or no salsa?',\n",
    "                'What additional toppings would you like: cheese, Fajita veggies, corn, lettuce, and/or sour cream?',\n",
    "                'Would you like guacamole for an additional charge: guac or no guac?',\"Type 'done' to process your order.\"]\n",
    "\n",
    "userSelection = ['','','','','','','']\n",
    "\n"
   ]
  },
  {
   "cell_type": "code",
   "execution_count": 47,
   "metadata": {},
   "outputs": [
    {
     "name": "stdout",
     "output_type": "stream",
     "text": [
      "Hello, I'm Chip. How may I take your order?\n",
      "CUSTOMER :can I get a burrito \n",
      "CHIP:What kind of rice would you like: white, brown, or no rice?\n",
      "CUSTOMER :white\n",
      "CHIP:What kind of beans would you like: black, pinto, or no beans?\n",
      "CUSTOMER :black \n",
      "CHIP:What kind of protein would you like: carne asada, carnitas, chicken, sofritas, barbacoa, steak, or veggie?\n",
      "CUSTOMER :chicken\n",
      "CHIP:What salsa would you like: mild, medium, hot, and/or no salsa?\n",
      "CUSTOMER :medium and hot\n",
      "CHIP:What additional toppings would you like: cheese, Fajita veggies, corn, lettuce, and/or sour cream?\n",
      "CUSTOMER :corn \n",
      "CHIP:Would you like guacamole for an additional charge: guac or no guac?\n",
      "CUSTOMER :yes guac\n",
      "CHIP:Type 'done' to process your order.\n",
      "CUSTOMER :done\n",
      "The total is $10.15.\n",
      "CHIP:Thank you for ordering at Chipotle! Your order will be ready in a few minutes.\n"
     ]
    }
   ],
   "source": [
    "class Order:\n",
    "    \n",
    "        order = True\n",
    "        lastMsg = 0\n",
    "        nextMsg = 0\n",
    "        print(\"Hello, I'm Chip. How may I take your order?\")\n",
    "\n",
    "        while(order==True):\n",
    "            order_input = input('CUSTOMER :')\n",
    "\n",
    "            if outro(order_input):\n",
    "                payment()\n",
    "                print('CHIP:Thank you for ordering at Chipotle! Your order will be ready in a few minutes.')\n",
    "                order = False\n",
    "            else:\n",
    "                nextMsg = respond(order_input)\n",
    "                if nextMsg>=0:\n",
    "                    lastMsg=nextMsg\n",
    "                    userSelection[nextMsg]=order_input\n",
    "                else:\n",
    "                    nextMsg=lastMsg\n",
    "                #print(userSelection)\n",
    "                print('CHIP:' + bot_messages[nextMsg])\n",
    "                \n",
    "        else:\n",
    "            order = False\n",
    "\n"
   ]
  },
  {
   "cell_type": "code",
   "execution_count": null,
   "metadata": {},
   "outputs": [],
   "source": []
  }
 ],
 "metadata": {
  "kernelspec": {
   "display_name": "Python 3",
   "language": "python",
   "name": "python3"
  }
 },
 "nbformat": 4,
 "nbformat_minor": 2
}
